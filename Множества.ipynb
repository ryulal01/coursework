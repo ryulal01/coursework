{
  "metadata": {
    "kernelspec": {
      "name": "python",
      "display_name": "Python (Pyodide)",
      "language": "python"
    },
    "language_info": {
      "codemirror_mode": {
        "name": "python",
        "version": 3
      },
      "file_extension": ".py",
      "mimetype": "text/x-python",
      "name": "python",
      "nbconvert_exporter": "python",
      "pygments_lexer": "ipython3",
      "version": "3.8"
    }
  },
  "nbformat_minor": 4,
  "nbformat": 4,
  "cells": [
    {
      "cell_type": "markdown",
      "source": "# Множества",
      "metadata": {}
    },
    {
      "cell_type": "markdown",
      "source": "Множество(set) в python - контейнер, содержащий неповторяющиеся элементы.",
      "metadata": {}
    },
    {
      "cell_type": "markdown",
      "source": "## Как можно создать множество?\n**Первый вариант** создания множества - это перечислить элементы в фигурных скобках",
      "metadata": {}
    },
    {
      "cell_type": "code",
      "source": "objects = {\"ball\", \"pen\", \"phone\", \"book\", \"pen\", \"phone\"}\nfor object in objects:\n    print(object)",
      "metadata": {
        "trusted": true
      },
      "outputs": [
        {
          "name": "stdout",
          "text": "phone\nball\npen\nbook\n",
          "output_type": "stream"
        }
      ],
      "execution_count": 3
    },
    {
      "cell_type": "markdown",
      "source": "Заметим, что как мы и ожидали, в множестве остались только уникальные элементы, даже если изначально какой-то объект мы положили в множество несколько раз. Также в множетсве элементы хранятся в произвольном порядке(это можно заметить, посмотрев на вывод нашей программы).",
      "metadata": {}
    },
    {
      "cell_type": "markdown",
      "source": "Перейдем ко **второму варианту** создания множества. Можно, например, сначала создать список(list) или строку и от этого объекта сделать set().",
      "metadata": {}
    },
    {
      "cell_type": "code",
      "source": "numbers = [1, 33, 100, 4, 5, 55, 1, 1, 1]\nfor num in numbers:\n    print(num)\nprint(\"We printed our list!\")\nset_of_numbers = set(numbers)\nfor num in set_of_numbers:\n    print(num)\nprint(\"We printed our set\")",
      "metadata": {
        "trusted": true
      },
      "outputs": [
        {
          "name": "stdout",
          "text": "1\n33\n100\n4\n5\n55\n1\n1\n1\nWe printed our list!\n1\n33\n100\n5\n4\n55\nWe printed our set\n",
          "output_type": "stream"
        }
      ],
      "execution_count": 4
    },
    {
      "cell_type": "markdown",
      "source": "Заметим, что при выводе объекта типа list(), каждый элемент мог выводиться несколько раз, но если мы начинаем работать с объектом типа set(), все дубликаты не будут учитываться.",
      "metadata": {}
    },
    {
      "cell_type": "code",
      "source": "str = \"Hello world!\"\nset_from_str = set(str)\nprint(set_from_str)",
      "metadata": {
        "trusted": true
      },
      "outputs": [
        {
          "name": "stdout",
          "text": "{'d', 'e', ' ', '!', 'l', 'o', 'H', 'w', 'r'}\n",
          "output_type": "stream"
        }
      ],
      "execution_count": 5
    },
    {
      "cell_type": "markdown",
      "source": "Мы создали множество от строки, поэтому все повторяющиеся символы(в нашем случае 'o' и 'l') включены в множество по одному разу.",
      "metadata": {}
    },
    {
      "cell_type": "markdown",
      "source": "Теперь поймем, как можно создать **пустое множетсво**.",
      "metadata": {}
    },
    {
      "cell_type": "code",
      "source": "nums = set()\nprint(nums)",
      "metadata": {
        "trusted": true
      },
      "outputs": [
        {
          "name": "stdout",
          "text": "set()\n",
          "output_type": "stream"
        }
      ],
      "execution_count": 2
    },
    {
      "cell_type": "markdown",
      "source": "Теперь у нас есть пустое множетсво. Давайте для начала научимся добавлять в него новые элементы\n\n## Операции с множествами",
      "metadata": {}
    },
    {
      "cell_type": "code",
      "source": "nums.add(123)\nprint(nums)",
      "metadata": {
        "trusted": true
      },
      "outputs": [
        {
          "name": "stdout",
          "text": "{123}\n",
          "output_type": "stream"
        }
      ],
      "execution_count": 3
    },
    {
      "cell_type": "markdown",
      "source": "Для добавления элемента мы использовали метод **add()**.\n\nТеперь пусть мы хотим удалить элемент из множетсва.\n\nСравним работу двух методов **remove()** и **discard()**",
      "metadata": {}
    },
    {
      "cell_type": "code",
      "source": "nums.remove(1)",
      "metadata": {
        "trusted": true
      },
      "outputs": [
        {
          "ename": "<class 'KeyError'>",
          "evalue": "1",
          "traceback": [
            "\u001b[0;31m---------------------------------------------------------------------------\u001b[0m",
            "\u001b[0;31mKeyError\u001b[0m                                  Traceback (most recent call last)",
            "Cell \u001b[0;32mIn[5], line 1\u001b[0m\n\u001b[0;32m----> 1\u001b[0m \u001b[43mnums\u001b[49m\u001b[38;5;241;43m.\u001b[39;49m\u001b[43mremove\u001b[49m\u001b[43m(\u001b[49m\u001b[38;5;241;43m1\u001b[39;49m\u001b[43m)\u001b[49m\n",
            "\u001b[0;31mKeyError\u001b[0m: 1"
          ],
          "output_type": "error"
        }
      ],
      "execution_count": 5
    },
    {
      "cell_type": "code",
      "source": "nums.discard(1)",
      "metadata": {
        "trusted": true
      },
      "outputs": [],
      "execution_count": 6
    },
    {
      "cell_type": "markdown",
      "source": "Различие заключается лишь в том, что при удалении элемента, которого нет в множестве **remove()** выдает ошибку, а **discard()** нет.\n\nЕсли вдруг нам понадобится удалить все элементы множетсва, то мы можем использовать метод **clear()**.",
      "metadata": {}
    },
    {
      "cell_type": "code",
      "source": "nums.clear()\nprint(nums)",
      "metadata": {
        "trusted": true
      },
      "outputs": [
        {
          "name": "stdout",
          "text": "set()\n",
          "output_type": "stream"
        }
      ],
      "execution_count": 8
    },
    {
      "cell_type": "markdown",
      "source": "Для того чтобы получить **объединение двух множеств**  есть два варианта.",
      "metadata": {}
    },
    {
      "cell_type": "code",
      "source": "objects1 = {\"pen\", \"pencil\", \"rubber\"}\nobjects2 = {\"phone\", \"laptop\", \"pen\"}\nprint(objects1 | objects2)\nprint(objects1.union(objects2))",
      "metadata": {
        "trusted": true
      },
      "outputs": [
        {
          "name": "stdout",
          "text": "{'pen', 'laptop', 'pencil', 'rubber', 'phone'}\n{'pen', 'laptop', 'pencil', 'rubber', 'phone'}\n",
          "output_type": "stream"
        }
      ],
      "execution_count": 9
    },
    {
      "cell_type": "markdown",
      "source": "Аналогичная ситуация будет с **пересечением двух множеств**.",
      "metadata": {}
    },
    {
      "cell_type": "code",
      "source": "objects1 = {\"pen\", \"pencil\", \"rubber\"}\nobjects2 = {\"phone\", \"laptop\", \"pen\"}\nprint(objects1 & objects2)\nprint(objects1.intersection(objects2))",
      "metadata": {
        "trusted": true
      },
      "outputs": [
        {
          "name": "stdout",
          "text": "{'pen'}\n{'pen'}\n",
          "output_type": "stream"
        }
      ],
      "execution_count": 10
    },
    {
      "cell_type": "markdown",
      "source": "Теперь научимся находить **разность двух множеств**. То есть это те элеменьты, которые содержатся только в первом множетсве, но не содержатся во втором, либо наоборот.",
      "metadata": {}
    },
    {
      "cell_type": "code",
      "source": "objects1 = {\"pen\", \"pencil\", \"rubber\"}\nobjects2 = {\"phone\", \"laptop\", \"pen\"}\nprint(objects1 - objects2)\nprint(objects1.difference(objects2))",
      "metadata": {
        "trusted": true
      },
      "outputs": [
        {
          "name": "stdout",
          "text": "{'pencil', 'rubber'}\n{'pencil', 'rubber'}\n",
          "output_type": "stream"
        }
      ],
      "execution_count": 11
    },
    {
      "cell_type": "markdown",
      "source": "Чтобы проверить содержится ли конкретный элемент **x** в нашем множетсве **nums**, можно использовать конструкцию **x in nums**.\n\nДанное выражение будет означать \"True\", если элемент x содержится в множетсве nums, и \"False\" иначе.",
      "metadata": {}
    },
    {
      "cell_type": "markdown",
      "source": "Теперь разберемся, как можно понять, является одно множества подмножеством другого или нет. Для этого нам понадобится метод **issubset**. Он такжн возвращает \"True\" или \"False\".",
      "metadata": {}
    },
    {
      "cell_type": "code",
      "source": "set1 = {\"cat\", \"dog\"}\nset2 = {\"cat\", \"dog\", \"penguin\"}\nprint(set1.issubset(set2))\nprint(set2.issubset(set1))",
      "metadata": {
        "trusted": true
      },
      "outputs": [
        {
          "name": "stdout",
          "text": "True\nFalse\n",
          "output_type": "stream"
        }
      ],
      "execution_count": 12
    },
    {
      "cell_type": "markdown",
      "source": "Стоит сказать, что точно также, как и с list(), встроенная функция **len()**, работает с типом set().\n\nПусть мы хотим узнать количество элементов в нашем множетсве.",
      "metadata": {}
    },
    {
      "cell_type": "code",
      "source": "print(len(set1))",
      "metadata": {
        "trusted": true
      },
      "outputs": [
        {
          "name": "stdout",
          "text": "2\n",
          "output_type": "stream"
        }
      ],
      "execution_count": 16
    },
    {
      "cell_type": "markdown",
      "source": "## frozenset",
      "metadata": {}
    },
    {
      "cell_type": "markdown",
      "source": "**frozenset** - это множество, которое нельзя изменить",
      "metadata": {}
    },
    {
      "cell_type": "code",
      "source": "elements = frozenset({\"cat\", \"dog\", \"bird\"})\nprint(elements)",
      "metadata": {
        "trusted": true
      },
      "outputs": [
        {
          "name": "stdout",
          "text": "frozenset({'dog', 'bird', 'cat'})\n",
          "output_type": "stream"
        }
      ],
      "execution_count": 13
    },
    {
      "cell_type": "markdown",
      "source": "Заметим, что многие операции не будут работать с frozenset, в том числе нельзя добавить или удалить элемент.",
      "metadata": {}
    },
    {
      "cell_type": "code",
      "source": "elements.add(\"cow\")",
      "metadata": {
        "trusted": true
      },
      "outputs": [
        {
          "ename": "<class 'AttributeError'>",
          "evalue": "'frozenset' object has no attribute 'add'",
          "traceback": [
            "\u001b[0;31m---------------------------------------------------------------------------\u001b[0m",
            "\u001b[0;31mAttributeError\u001b[0m                            Traceback (most recent call last)",
            "Cell \u001b[0;32mIn[14], line 1\u001b[0m\n\u001b[0;32m----> 1\u001b[0m \u001b[43melements\u001b[49m\u001b[38;5;241;43m.\u001b[39;49m\u001b[43madd\u001b[49m(\u001b[38;5;124m\"\u001b[39m\u001b[38;5;124mcow\u001b[39m\u001b[38;5;124m\"\u001b[39m)\n",
            "\u001b[0;31mAttributeError\u001b[0m: 'frozenset' object has no attribute 'add'"
          ],
          "output_type": "error"
        }
      ],
      "execution_count": 14
    },
    {
      "cell_type": "code",
      "source": "elements.add(\"bird\")",
      "metadata": {
        "trusted": true
      },
      "outputs": [
        {
          "ename": "<class 'AttributeError'>",
          "evalue": "'frozenset' object has no attribute 'add'",
          "traceback": [
            "\u001b[0;31m---------------------------------------------------------------------------\u001b[0m",
            "\u001b[0;31mAttributeError\u001b[0m                            Traceback (most recent call last)",
            "Cell \u001b[0;32mIn[15], line 1\u001b[0m\n\u001b[0;32m----> 1\u001b[0m \u001b[43melements\u001b[49m\u001b[38;5;241;43m.\u001b[39;49m\u001b[43madd\u001b[49m(\u001b[38;5;124m\"\u001b[39m\u001b[38;5;124mbird\u001b[39m\u001b[38;5;124m\"\u001b[39m)\n",
            "\u001b[0;31mAttributeError\u001b[0m: 'frozenset' object has no attribute 'add'"
          ],
          "output_type": "error"
        }
      ],
      "execution_count": 15
    },
    {
      "cell_type": "markdown",
      "source": "Дополнительно описание всех методов можно посмотреть на сайте https://pythonworld.ru/tipy-dannyx-v-python/mnozhestva-set-i-frozenset.html",
      "metadata": {}
    },
    {
      "cell_type": "markdown",
      "source": "Давайте рассмотрим **простую задачу**, чтобы лучше понять, как можно работать с множествами.\n\nПусть у нас есть список имен посетителей, и мы хотим понять, сколько в нем имен, которые ранее уже были записаны.",
      "metadata": {}
    },
    {
      "cell_type": "code",
      "source": "names = [\"Veronika\", \"Eva\", \"Arina\", \"Veronika\", \"Misha\", \"Misha\", \"Arina\"]\nprint(len(names) - len(set(names)))",
      "metadata": {
        "trusted": true
      },
      "outputs": [
        {
          "name": "stdout",
          "text": "3\n",
          "output_type": "stream"
        }
      ],
      "execution_count": 17
    },
    {
      "cell_type": "markdown",
      "source": "# Теперь вы знаете, как работать с множетсвами в python! Мы можем перейти к решению задач",
      "metadata": {}
    }
  ]
}