{
  "metadata": {
    "kernelspec": {
      "name": "python",
      "display_name": "Python (Pyodide)",
      "language": "python"
    },
    "language_info": {
      "codemirror_mode": {
        "name": "python",
        "version": 3
      },
      "file_extension": ".py",
      "mimetype": "text/x-python",
      "name": "python",
      "nbconvert_exporter": "python",
      "pygments_lexer": "ipython3",
      "version": "3.8"
    }
  },
  "nbformat_minor": 4,
  "nbformat": 4,
  "cells": [
    {
      "cell_type": "markdown",
      "source": "Для создания **телеграм-ботов на Python** чаще всего используются данные библиотеки.\n\n**Aiogram**. Современная библиотека, набирающая популярность\n\n**Python-telegram-bot**. Одна из первых библиотек для создания ботов\n\n**TeleBot**. Библиотека для создания простых ботов, позволяющая работать с асинхронным и синхронным подходом на выбор. Подходит для небольших проектов.\n\n# Сегодня мы напишем простой эхо-бот с помощью библиотеки **Aiogram**.\n\nДля начала проверим, установлен ли на нашем компьютере python.\n\nСделать это можно с помощью следующей команды:\n\n**python --version**.\n\nПосле установки и проверки Python требуется установить виртуальное окружение с помощью:\n\n**virtualenv**\n\nСоздаем директорию для проекта:\n\n**mkdir telegram_bot\ncd telegram_bot**\n\nРазвернём виртуальное окружение внутри папки telegram_bot:\n\n**virtualenv venv -p python3**\n\nАктивируем его\n\n**source venv/bin/activate**",
      "metadata": {}
    },
    {
      "cell_type": "markdown",
      "source": "## Для создания бота необходимо воспользоваться Telegram и ботом @BotFather\n\nОткрываем его, жмём кнопку «Запустить» и вводим команду\n\n**/newbot**\n\nТеперь напишем название и юзернейм для нашего бота. Назовём его echo_bot (теперь это имя занято, так что вам надо будет придумать своё). В ответ придёт наш токен, который мы будем использовать для подключения к API Telegram.\n\nДля установки Aiogram воспользуемся менеджером пакетов PIP. Вводим в терминал:\n\n**pip install aiogram**\n\nОткроем IDE и создадим файл main.py. Для этого проекта нам потребуется только он. Импортируем из Aiogram нужные классы и модуль:\n",
      "metadata": {}
    },
    {
      "cell_type": "code",
      "source": "from aiogram import Bot, Dispatcher, executor, types",
      "metadata": {
        "trusted": true
      },
      "outputs": [],
      "execution_count": null
    },
    {
      "cell_type": "markdown",
      "source": "Импортируем наш токен, который поможет коммуницировать с API Telegram:",
      "metadata": {}
    },
    {
      "cell_type": "code",
      "source": "API_TOKEN = 'some_numbers_here'\n",
      "metadata": {
        "trusted": true
      },
      "outputs": [],
      "execution_count": null
    },
    {
      "cell_type": "markdown",
      "source": "Теперь необходимо инициализировать объекты bot и Dispatcher, передав первому наш токен. Если их не инициализировать, то код не будет работать.",
      "metadata": {}
    },
    {
      "cell_type": "code",
      "source": "bot = Bot(token=API_TOKEN)\ndp = Dispatcher(bot)",
      "metadata": {
        "trusted": true
      },
      "outputs": [],
      "execution_count": null
    },
    {
      "cell_type": "markdown",
      "source": "Настроим приветственное окно для нового пользователя, которое будет появляться при нажатии команды /start. Для этого создаём message_handler и прописываем функцию ответа:",
      "metadata": {}
    },
    {
      "cell_type": "code",
      "source": "sync def send_welcome(message: types.Message):\n   await message.reply(\"Привет!\\nЯ Эхо-бот!\")",
      "metadata": {
        "trusted": true
      },
      "outputs": [],
      "execution_count": null
    },
    {
      "cell_type": "markdown",
      "source": "Теперь при нажатии на кнопку Начать или при вводе команды /start пользователь будет получать от бота приветственное сообщение.",
      "metadata": {}
    },
    {
      "cell_type": "markdown",
      "source": "Теперь создадим событие, которое будет обрабатывать введённое пользователем сообщение:",
      "metadata": {}
    },
    {
      "cell_type": "code",
      "source": "async def echo(message: types.Message): #Создаём функцию с простой задачей — отправить обратно тот же текст, что ввёл пользователь.\n   await message.answer(message.text)",
      "metadata": {
        "trusted": true
      },
      "outputs": [],
      "execution_count": null
    },
    {
      "cell_type": "markdown",
      "source": "Так как бот должен реагировать на любое текстовое сообщение от пользователя, то скобки в @dp.message_handler мы оставляем пустыми. Параметр message не отличается от использованного в предыдущих шагах.\n\nДля ответа мы также используем метод message, указывая, что возвращаем исходный текст, принятый в message.\n\nОстаётся последний этап — настроить получение сообщений от сервера в Telegram. ",
      "metadata": {}
    },
    {
      "cell_type": "markdown",
      "source": "Метод start_polling опрашивает сервер, проверяя на нём обновления. Если они есть, то они приходят в Telegram. Для включения поллинга необходимо добавить две строчки:",
      "metadata": {}
    },
    {
      "cell_type": "code",
      "source": "if __name__ == '__main__':\n   executor.start_polling(dp, skip_updates=True)",
      "metadata": {
        "trusted": true
      },
      "outputs": [],
      "execution_count": null
    },
    {
      "cell_type": "markdown",
      "source": "Полный код нашего эхо-бота.",
      "metadata": {}
    },
    {
      "cell_type": "code",
      "source": "from aiogram import Bot, Dispatcher, executor, types\n \nAPI_TOKEN = 'some_numbers_here'\n \nbot = Bot(token=API_TOKEN)\ndp = Dispatcher(bot)\n \n@dp.message_handler(commands=['start'])\nasync def send_welcome(message: types.Message):\n   await message.reply(\"Привет!\\nЯ Эхо-бот.\")\n \n@dp.message_handler()\nasync def echo(message: types.Message):\n   await message.answer(message.text)\n \nif __name__ == '__main__':\n   executor.start_polling(dp, skip_updates=True)",
      "metadata": {
        "trusted": true
      },
      "outputs": [],
      "execution_count": null
    },
    {
      "cell_type": "markdown",
      "source": "Для запуска бота нам необходим терминал. Открываем его и переходим в нашу папку telegram_bot. После этого вводим команду:",
      "metadata": {}
    },
    {
      "cell_type": "code",
      "source": "python3 main.py",
      "metadata": {
        "trusted": true
      },
      "outputs": [],
      "execution_count": null
    },
    {
      "cell_type": "markdown",
      "source": "Переходим в Telegram и проверяем работу нашего бота.",
      "metadata": {}
    },
    {
      "cell_type": "markdown",
      "source": "## На следующем уроке мы научимся создавать более сложного бота!",
      "metadata": {}
    }
  ]
}