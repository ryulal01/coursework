{
  "metadata": {
    "kernelspec": {
      "name": "python",
      "display_name": "Python (Pyodide)",
      "language": "python"
    },
    "language_info": {
      "codemirror_mode": {
        "name": "python",
        "version": 3
      },
      "file_extension": ".py",
      "mimetype": "text/x-python",
      "name": "python",
      "nbconvert_exporter": "python",
      "pygments_lexer": "ipython3",
      "version": "3.8"
    }
  },
  "nbformat_minor": 4,
  "nbformat": 4,
  "cells": [
    {
      "cell_type": "markdown",
      "source": "# Ветвления в python\nРассмотрим пример из жизни: учительница проверяет контрольную работу ученика. Максимально за работу можно получить 20 баллов. Ученику будет поставлена оценка 5, если он набрал 17 и более баллов, оценка 4, если он набрал от 13 до 16 баллов, оценка 3, если он набрал от 9 до 12 баллов, иначе будет проставлена оценка 2.\n\nКак же реализовать это с помощью программы?\n\nДля этого нужно использовать следующую конструкцию:",
      "metadata": {}
    },
    {
      "cell_type": "code",
      "source": "if boolean_expression:\n    some_expressions_if\nelse:\n    some_expressions_else",
      "metadata": {
        "trusted": true
      },
      "outputs": [],
      "execution_count": null
    },
    {
      "cell_type": "markdown",
      "source": "Теперь разберемся более подробно.\n\n**boolean_expression** - это логическое выражение. Оно всегда возвращает либо **True**, либо **False**.\n\nЕсли **boolean_expression** вернуло **True**, будут выполняться команды из блока **if**. Синтаксис языка python устроен так, что после условного выражения обязательно должно стоять двоеточие. Далее, чтобы показать, что следующие действия принадлежат блоку **if**, каждая команда должна идти с отступом в 4 пробела(либо можно использовать табуляцию).\n\nЕсли же **boolean_expression** вернуло **False**, будут выполняться команды из блока **else**. Ни одна из команд блока **some_expressions_if** в данном случае не будет выполнена.\n\nРассмотрим простой код:",
      "metadata": {}
    },
    {
      "cell_type": "code",
      "source": "n = 2\nif n < 5:\n    print(\"The entered number is less than 5\")\nelse:\n    print(\"The entered number is greater than 5\")\nprint(\"Hello!\")",
      "metadata": {
        "trusted": true
      },
      "outputs": [
        {
          "name": "stdout",
          "text": "The entered number is less than 5\nHello!\n",
          "output_type": "stream"
        }
      ],
      "execution_count": 4
    },
    {
      "cell_type": "code",
      "source": "n = 7\nif n < 5:\n    print(\"The entered number is less than 5\")\nelse:\n    print(\"The entered number is greater than 5\")\nprint(\"Hello!\")",
      "metadata": {
        "trusted": true
      },
      "outputs": [
        {
          "name": "stdout",
          "text": "The entered number is greater than 5\nHello!\n",
          "output_type": "stream"
        }
      ],
      "execution_count": 5
    },
    {
      "cell_type": "markdown",
      "source": "Давайте поймем, что происходит в этих двух примерах.\n\nВ первом примере мы ввели число **2**, логическое выгажение **(2 < 5)** вернуло **True**, далее мы дошли до команды **print(\"The entered number is less than 5\")**, вывели эту строку на экран. Команды блока **if** закончились, далее мы пропускаем блок **else**, и сразу выполняем команду **print(\"Hello!\")**.\n\nВо втором примере мы ввели число **7**, логическое выгажение **(7 < 5)** вернуло **False**, поэтому мы пропускаем блок **if**, и сразу переходим к командам блока **else**. Далее выполняем команду **print(\"Hello!\")**.\n\nТеперь вернемся к нашему примеру с проверокй контрольной работы.\nВ этом случае нам не хватит развлетвления на два случая **if-else**, так как учительницы есть 4 варинта, какую оценку поставить ученику\n\nЧтобы реализовать это на языке программирования python нужно использовать конструкцию **if-elif-else**.\n\n## if-elif-else",
      "metadata": {}
    },
    {
      "cell_type": "code",
      "source": "if boolean_expression:\n    some_expressions_if\nelif boolean_expression2:\n    some_expressions_elif\nelse:\n    some_expressions_else",
      "metadata": {
        "trusted": true
      },
      "outputs": [],
      "execution_count": null
    },
    {
      "cell_type": "markdown",
      "source": "Между блоками **if** и **else**, может быть любое количесво блоков **elif**. Как и в случае с **if**, после **elif** обязательно должно идти логическое выражение.",
      "metadata": {}
    },
    {
      "cell_type": "code",
      "source": "if boolean_expression:\n    some_expressions_if\nelif boolean_expression2:\n    some_expressions_elif_1\nelif boolean_expression3:\n    some_expressions_elif_2\nelse:\n    some_expressions_else",
      "metadata": {
        "trusted": true
      },
      "outputs": [],
      "execution_count": null
    },
    {
      "cell_type": "markdown",
      "source": "Давайте теперь реализуем код для того, чтобы помочь учительнице автоматизировать выставление оценок",
      "metadata": {}
    },
    {
      "cell_type": "code",
      "source": "score = 19\n\nif score >= 17:\n    print(\"Excellent job! Your mark is 5!\")\nelif score >= 13:\n    print(\"Good! Your mark is 4\")\nelif score >= 9:\n    print(\"Your mark is 3\")\nelse:\n    print(\"Your mark is 2 :(\")",
      "metadata": {
        "trusted": true
      },
      "outputs": [
        {
          "name": "stdout",
          "text": "Excellent job! Your mark is 5!\n",
          "output_type": "stream"
        }
      ],
      "execution_count": 16
    },
    {
      "cell_type": "markdown",
      "source": "Также логическое выражение при **if** может выглядеть более нестандартно. Там может стоять просто одна переменная, число, слово **True** или **False**, а также сложное логическое выражение, когда два простых соединяются через логически and или or.\n\nРассмотрим еще несколько простых примеров",
      "metadata": {}
    },
    {
      "cell_type": "code",
      "source": "if 10:\n    print(\"True!!!\")\nelse:\n    print(\"False\")",
      "metadata": {
        "trusted": true
      },
      "outputs": [
        {
          "name": "stdout",
          "text": "True!!!\n",
          "output_type": "stream"
        }
      ],
      "execution_count": 17
    },
    {
      "cell_type": "markdown",
      "source": "Следует отметить, что любое число, кроме нуля - это **True**.",
      "metadata": {}
    },
    {
      "cell_type": "code",
      "source": "if -889:\n    print(\"True!!!\")\nelse:\n    print(\"False\")",
      "metadata": {
        "trusted": true
      },
      "outputs": [
        {
          "name": "stdout",
          "text": "True!!!\n",
          "output_type": "stream"
        }
      ],
      "execution_count": 18
    },
    {
      "cell_type": "markdown",
      "source": "Выражение **\"if 0:\"** всегда **False**, поэтому код в данном блоке **if** не будет выполнен.",
      "metadata": {}
    },
    {
      "cell_type": "code",
      "source": "if 0:\n    print(\"Hello world!\")",
      "metadata": {
        "trusted": true
      },
      "outputs": [],
      "execution_count": 21
    },
    {
      "cell_type": "markdown",
      "source": "Ничего не выводится, как мы и ожидали.\n\nТеперь рассмотрим пример со сложным логическим выражением.",
      "metadata": {}
    },
    {
      "cell_type": "code",
      "source": "num = 150\nif num % 3 == 0 and num > 100 or num == 0:\n    print(\"good number!\")\nelse:\n    print(\"try again\")",
      "metadata": {
        "trusted": true
      },
      "outputs": [
        {
          "name": "stdout",
          "text": "good number!\n",
          "output_type": "stream"
        }
      ],
      "execution_count": 23
    },
    {
      "cell_type": "markdown",
      "source": "# Циклы в python\n",
      "metadata": {}
    },
    {
      "cell_type": "markdown",
      "source": "## Что такое циклы и когда их нужно использовать?\nЦиклы позволяют выполнять некоторое действие заданное количество раз.\n\nКаждый цикл состоит из:\n\n- **тела**\n- **условия**\n\nВ теле цикла задано само действие, которое мы хотим повторить несколько раз.\n\nВ условии мы указываем количество повторений. Можно указать, как конкретное число, так и сделать более сложную проверку.\n",
      "metadata": {}
    },
    {
      "cell_type": "markdown",
      "source": "В языке python есть два типа циклов\n\n- **for**\n- **while**\n\nДавайте перейдем к изучению первого из них",
      "metadata": {}
    },
    {
      "cell_type": "markdown",
      "source": "## Цикл for",
      "metadata": {}
    },
    {
      "cell_type": "code",
      "source": "for variable in some_values:\n    instructions",
      "metadata": {
        "trusted": true
      },
      "outputs": [],
      "execution_count": null
    },
    {
      "cell_type": "markdown",
      "source": "Здесь\n- **for** и **in** - это ключевые слова языка python\n- **variable** - это переменная, которая пробегается по значениям из набора **some_values**\n- **some_values** - это любой итерируемый объект. Например, список, множество или строка\n- **instructions** - действия, которые мы хотим повторить несколько раз. Каждая такая инструкция должна иметь отступ(табуляция или 4 пробела)",
      "metadata": {}
    },
    {
      "cell_type": "markdown",
      "source": "Рассмотрим пример когда набор **some_values** является списком",
      "metadata": {}
    },
    {
      "cell_type": "code",
      "source": "some_values = [1, 2, '!', 3, \"HELLO\", 4]\nfor variable in some_values:\n    print(variable)",
      "metadata": {
        "trusted": true
      },
      "outputs": [
        {
          "name": "stdout",
          "text": "1\n2\n!\n3\nHELLO\n4\n",
          "output_type": "stream"
        }
      ],
      "execution_count": 7
    },
    {
      "cell_type": "markdown",
      "source": "**some_values** необязательно объявлять отдельно, как переменную.\n\nНабор значений можно задать прямо в самом условии цикла",
      "metadata": {}
    },
    {
      "cell_type": "code",
      "source": "for variable in \"Hello world!\":\n     print(variable)",
      "metadata": {
        "trusted": true
      },
      "outputs": [
        {
          "name": "stdout",
          "text": "H\ne\nl\nl\no\n \nw\no\nr\nl\nd\n!\n",
          "output_type": "stream"
        }
      ],
      "execution_count": 8
    },
    {
      "cell_type": "markdown",
      "source": "**variable** здесь будет на каждом шаге цикла принимать значения из нашей строки. На первом шаге **variable** = 'H', на втором шаге **variable** = 'e'. На последнем шаге **variable** = '!'. На этом цикл заканчивается",
      "metadata": {}
    },
    {
      "cell_type": "markdown",
      "source": "## Функция range()",
      "metadata": {}
    },
    {
      "cell_type": "markdown",
      "source": "Нередко в связке с циклом for применяется встроенная функция **range()**.\n\nЕсли у функции **range(n)** один аргумент, будут сгенерированы числа от 0 до n-1",
      "metadata": {}
    },
    {
      "cell_type": "code",
      "source": "for i in range(4):\n    print(i)",
      "metadata": {
        "trusted": true
      },
      "outputs": [
        {
          "name": "stdout",
          "text": "0\n1\n2\n3\n",
          "output_type": "stream"
        }
      ],
      "execution_count": 10
    },
    {
      "cell_type": "markdown",
      "source": "Если у функции **range(m, n)** два аргумента, будут сгенерированы числа от m до n-1",
      "metadata": {}
    },
    {
      "cell_type": "code",
      "source": "for i in range(4, 7):\n    print(i)",
      "metadata": {
        "trusted": true
      },
      "outputs": [
        {
          "name": "stdout",
          "text": "4\n5\n6\n",
          "output_type": "stream"
        }
      ],
      "execution_count": 11
    },
    {
      "cell_type": "markdown",
      "source": "Если у функции **range(m, n, r)** три аргумента, будут сгенерированы числа от m до n-1 с шагом r",
      "metadata": {}
    },
    {
      "cell_type": "code",
      "source": "for i in range(4, 15, 5):\n    print(i)",
      "metadata": {
        "trusted": true
      },
      "outputs": [
        {
          "name": "stdout",
          "text": "4\n9\n14\n",
          "output_type": "stream"
        }
      ],
      "execution_count": 13
    },
    {
      "cell_type": "markdown",
      "source": "## Цикл while\n\nВ данном примере цикл будет выполняться \"пока x строго меньше 5\".",
      "metadata": {}
    },
    {
      "cell_type": "code",
      "source": "x = 0\nwhile x < 5:\n    print(x)\n    x += 1",
      "metadata": {
        "trusted": true
      },
      "outputs": [],
      "execution_count": null
    },
    {
      "cell_type": "markdown",
      "source": "\n\nПеред циклом **while** обязательно нужно выбрать переменную, на которую будет проверка в условии, и присвоить ей какое-то значение.\n\nЕсли бы мы забыли в теле цикла сделать **x += 1**,  то инструкция **print(x)** у нас бы выполнялась бесконечное количество раз. Таких ситуаций нужно избегать, так как это может привести к \"неопределенному поведению программы\". Мы должны следить за тем, чтобы в нашем коде отсутствовали бесконечные циклы\n",
      "metadata": {}
    },
    {
      "cell_type": "markdown",
      "source": "## Прерывание цикла с помощью break",
      "metadata": {}
    },
    {
      "cell_type": "markdown",
      "source": "Иногда бывают ситуации, когда цикл нужно завершить принудительно. Для этого нужно использовать ключевое слово **break**\n\nПусть мы хотим пройтись по строке и вывести каждый элемент. При этом, если в строке встречается пробел, то мы прерываем вывод",
      "metadata": {}
    },
    {
      "cell_type": "code",
      "source": "line = \"Hello world! Hello world!\"\nfor i in line:\n    if (i == ' '):\n        break\n    print(i)",
      "metadata": {
        "trusted": true
      },
      "outputs": [
        {
          "name": "stdout",
          "text": "H\ne\nl\nl\no\n",
          "output_type": "stream"
        }
      ],
      "execution_count": 1
    },
    {
      "cell_type": "markdown",
      "source": "## Пропуск части цикла с помощью continue",
      "metadata": {}
    },
    {
      "cell_type": "markdown",
      "source": "Иногда нам будет нужно принудительно перейти на следущий шаг цикла, пропустив несколько инструкций.\n\nДля этого можно использовать ключевое слово **continue**\n\nПусть мы хотим посчитать сумму заданных в списке числел, которые при этом не делятся на 10",
      "metadata": {}
    },
    {
      "cell_type": "code",
      "source": "numbers = [12, 10, 2, 4, 40, 60, 100, 1]\nsum = 0\nfor i in numbers:\n    if i % 10 == 0:\n        continue\n    sum += i\nprint(sum)",
      "metadata": {
        "trusted": true
      },
      "outputs": [
        {
          "name": "stdout",
          "text": "19\n",
          "output_type": "stream"
        }
      ],
      "execution_count": 3
    },
    {
      "cell_type": "markdown",
      "source": "Можно проверить, что числа, которые в нашем списке не делятся на 10 это: [12, 2, 4, 1]. Их сумма как раз равна 19. \n\nВстретив слово continue цикл перейдет сразу на следующую итерацию, в этом случае строка sum += 1 не будет выполнена",
      "metadata": {}
    },
    {
      "cell_type": "markdown",
      "source": "## Последнее действие в цикле с помощью else",
      "metadata": {}
    },
    {
      "cell_type": "markdown",
      "source": "Ключевое слово **else** можно использовать в связке как с **for**, так и с **while**. Cначала проверяется условие цикла и выполняются инструкции. Затем, когда условие становится равным **False**, выполняются инструкции из блока **else**\n\nЕсли же цикл досрочно прервётся из-за **break**, то инструкции из блока **else** не выполнятся.\n\nРассмотрим два примера",
      "metadata": {}
    },
    {
      "cell_type": "code",
      "source": "i = 1\nwhile i < 6:\n    print(i)\n    i += 1\nelse:\n    print(\"Вы находитесь в инструкциях блока else!\")",
      "metadata": {
        "trusted": true
      },
      "outputs": [
        {
          "name": "stdout",
          "text": "1\n2\n3\n4\n5\nВы находитесь в инструкциях блока else!\n",
          "output_type": "stream"
        }
      ],
      "execution_count": 11
    },
    {
      "cell_type": "markdown",
      "source": "В данном примере на переменная **i** пробежала значения от 1 до 5 включительно, цикл завершился, после чего выполнился блок **else** ",
      "metadata": {}
    },
    {
      "cell_type": "code",
      "source": "i = 1\nwhile i < 6:\n    if (i % 5 == 0):\n        break\n    print(i)\n    i += 1\nelse:\n    print(\"Вы находитесь в инструкциях блока else!\")",
      "metadata": {
        "trusted": true
      },
      "outputs": [
        {
          "name": "stdout",
          "text": "1\n2\n3\n4\n",
          "output_type": "stream"
        }
      ],
      "execution_count": 12
    },
    {
      "cell_type": "markdown",
      "source": "Теперь переменная **i** принимает значения 1, 2, 3, 4. На значении i = 5 срабатывает команда **break**. Цикл завершается принудительно, поэтому блок **else** не будет выполнен",
      "metadata": {}
    },
    {
      "cell_type": "markdown",
      "source": "## Вложенные циклы",
      "metadata": {}
    },
    {
      "cell_type": "markdown",
      "source": "Одни циклы внутри себя могут содержать другие циклы. Пусть у нас есть список имен и список фамилий. Мы хотим вывести каждое имя с каждой фамилией\n\nСделать это можно с помощью следующей конструкции",
      "metadata": {}
    },
    {
      "cell_type": "code",
      "source": "names = [\"Masha\", \"Eva\", \"Veronika\", \"Arina\", \"Yullia\", \"Sasha\"]\nsurnames = [\"Ivanova\", \"Petrova\", \"Zaytseva\", \"Smirnova\", \"Sokolova\", \"Veselova\"]\nfor name in names:\n    for surname in surnames:\n        print(name, surname)",
      "metadata": {
        "trusted": true
      },
      "outputs": [
        {
          "name": "stdout",
          "text": "Masha Ivanova\nMasha Petrova\nMasha Zaytseva\nMasha Smirnova\nMasha Sokolova\nMasha Veselova\nEva Ivanova\nEva Petrova\nEva Zaytseva\nEva Smirnova\nEva Sokolova\nEva Veselova\nVeronika Ivanova\nVeronika Petrova\nVeronika Zaytseva\nVeronika Smirnova\nVeronika Sokolova\nVeronika Veselova\nArina Ivanova\nArina Petrova\nArina Zaytseva\nArina Smirnova\nArina Sokolova\nArina Veselova\nYullia Ivanova\nYullia Petrova\nYullia Zaytseva\nYullia Smirnova\nYullia Sokolova\nYullia Veselova\nSasha Ivanova\nSasha Petrova\nSasha Zaytseva\nSasha Smirnova\nSasha Sokolova\nSasha Veselova\n",
          "output_type": "stream"
        }
      ],
      "execution_count": 13
    },
    {
      "cell_type": "markdown",
      "source": "## Синтаксический сахар",
      "metadata": {}
    },
    {
      "cell_type": "markdown",
      "source": "Цикл **for** также можно записать в одну строчку. Например, чтобы вывести квадраты чисел от 1 до 10, можно использовать такую конструкцию",
      "metadata": {}
    },
    {
      "cell_type": "code",
      "source": "print([i**2 for i in range(1, 11)])",
      "metadata": {
        "trusted": true
      },
      "outputs": [
        {
          "name": "stdout",
          "text": "[1, 4, 9, 16, 25, 36, 49, 64, 81, 100]\n",
          "output_type": "stream"
        }
      ],
      "execution_count": 1
    },
    {
      "cell_type": "markdown",
      "source": "Это называется синтаксическим сахаром и обычно используется для красоты. Если в теле цикла **for** вам необходимо сделать много действий, то лучше использовать обычный вид, чтобы код был более читаемым.",
      "metadata": {}
    },
    {
      "cell_type": "code",
      "source": "for i in range(1, 10):\n    if i % 6 == 0:\n        print(6)\n    elif i % 3 == 0:\n        print(3)\n    elif i % 2 == 0:\n        print(2)\n    else:\n        print(-1)",
      "metadata": {
        "trusted": true
      },
      "outputs": [
        {
          "name": "stdout",
          "text": "-1\n2\n3\n2\n-1\n6\n-1\n2\n3\n",
          "output_type": "stream"
        }
      ],
      "execution_count": 4
    },
    {
      "cell_type": "markdown",
      "source": "## На данном уроке вы познакомились с одими из базовых и самых важных конструкций языка программирования python! :)",
      "metadata": {}
    }
  ]
}